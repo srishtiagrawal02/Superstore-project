{
 "cells": [
  {
   "cell_type": "code",
   "execution_count": 68,
   "id": "911fc866-efec-4bc3-974f-069c9b8e5c03",
   "metadata": {},
   "outputs": [
    {
     "name": "stdout",
     "output_type": "stream",
     "text": [
      "Processing Superstore-sheet-after-cleaning.xlsx\n",
      "NaN values before replacement:\n",
      "Order ID         0\n",
      "OrderDate        0\n",
      "ShipDate         0\n",
      "Ship Mode        0\n",
      "Customer ID      0\n",
      "Customer Name    0\n",
      "Segment          0\n",
      "City             0\n",
      "State            0\n",
      "Postal Code      0\n",
      "Region           0\n",
      "Product ID       0\n",
      "Category         0\n",
      "Sub-Category     0\n",
      "Product Name     0\n",
      "Sales            0\n",
      "Quantity         0\n",
      "Discount         0\n",
      "Profit           0\n",
      "Order Months     0\n",
      "order year       0\n",
      "Profit/Loss      0\n",
      "dtype: int64\n",
      "\n"
     ]
    }
   ],
   "source": [
    "\n",
    "import pandas as pd\n",
    "import numpy as np\n",
    "import matplotlib.pyplot as plt\n",
    "import seaborn as sns\n",
    "import mysql.connector\n",
    "import os\n",
    "\n",
    "# List of CSV files and their corresponding table names\n",
    "csv_files = [ \n",
    "    ('Superstore-sheet-after-cleaning.xlsx', 'superstore1')\n",
    "]\n",
    "\n",
    "# connect to the MySQL database\n",
    "conn = mysql.connector.connect(\n",
    "    host = 'localhost',\n",
    "    user = 'root',\n",
    "    password = 'root',\n",
    "    database = 'superstore'\n",
    ")\n",
    "\n",
    "cursor = conn.cursor()\n",
    "\n",
    "# Folder containing csv file\n",
    "folder_path = 'D:/Coding/ms-excel/Superstore/'\n",
    "\n",
    "def get_sql_type(dtype):\n",
    "    if pd.api.types.is_integer_dtype(dtype):\n",
    "        return 'INT'\n",
    "    elif pd.api.types.is_float_dtype(dtype):\n",
    "        return 'FLOAT'\n",
    "    elif pd.api.types.is_bool_dtype(dtype):\n",
    "        return 'BOOLEAN'\n",
    "    elif pd.api.types.is_datetime64_any_dtype(dtype):\n",
    "        return 'DATETIME'\n",
    "    else:\n",
    "        return 'TEXT'\n",
    "\n",
    "for csv_file, table_name in csv_files:\n",
    "    file_path = os.path.join(folder_path, csv_file)\n",
    "    \n",
    "    # Read the CSV file into a pandas DataFrame\n",
    "    df = pd.read_excel(file_path)\n",
    "    \n",
    "    # Replace NaN with None to handle SQL NULL\n",
    "    df = df.where(pd.notnull(df), None)\n",
    "    \n",
    "    # Debugging: Check for NaN values\n",
    "    print(f\"Processing {csv_file}\")\n",
    "    print(f\"NaN values before replacement:\\n{df.isnull().sum()}\\n\")\n",
    "\n",
    "    # Clean column names\n",
    "    df.columns = [col.replace(' ', '_').replace('-', '_').replace('.', '_') for col in df.columns]\n",
    "\n",
    "    # Generate the CREATE TABLE statement with appropriate data types\n",
    "    columns = ', '.join([f'`{col}` {get_sql_type(df[col].dtype)}' for col in df.columns])\n",
    "    create_table_query = f'CREATE TABLE IF NOT EXISTS `{table_name}` ({columns})'\n",
    "    cursor.execute(create_table_query)\n",
    "\n",
    "    # Insert DataFrame data into the MySQL table\n",
    "    for _, row in df.iterrows():\n",
    "        # Convert row to tuple and handle NaN/None explicitly\n",
    "        values = tuple(None if pd.isna(x) else x for x in row)\n",
    "        sql = f\"INSERT INTO `{table_name}` ({', '.join(['`' + col + '`' for col in df.columns])}) VALUES ({', '.join(['%s'] * len(row))})\"\n",
    "        cursor.execute(sql, values)\n",
    "\n",
    "    # Commit the transaction for the current CSV file\n",
    "    conn.commit()\n",
    "\n",
    "# Close the connection\n",
    "conn.close()\n"
   ]
  },
  {
   "cell_type": "code",
   "execution_count": 69,
   "id": "67294982-193b-4d01-a9fd-a207ee6c0248",
   "metadata": {},
   "outputs": [],
   "source": [
    "import pandas as pd\n",
    "import matplotlib.pyplot as plt\n",
    "import numpy as np\n",
    "import seaborn as sns\n",
    "import mysql.connector\n",
    "\n",
    "db = mysql.connector.connect(\n",
    "    host = 'localhost',\n",
    "    username = 'root',\n",
    "    password = 'root',\n",
    "    database = 'superstore'\n",
    ")\n",
    "\n",
    "cursor = db.cursor()\n"
   ]
  },
  {
   "cell_type": "code",
   "execution_count": 243,
   "id": "8c5e28c2-5407-41ff-bd4e-395187963f60",
   "metadata": {},
   "outputs": [],
   "source": [
    "# Display table"
   ]
  },
  {
   "cell_type": "code",
   "execution_count": 92,
   "id": "f49228c2-d65d-4157-9ef3-a63844baaa11",
   "metadata": {},
   "outputs": [
    {
     "data": {
      "text/html": [
       "<div>\n",
       "<style scoped>\n",
       "    .dataframe tbody tr th:only-of-type {\n",
       "        vertical-align: middle;\n",
       "    }\n",
       "\n",
       "    .dataframe tbody tr th {\n",
       "        vertical-align: top;\n",
       "    }\n",
       "\n",
       "    .dataframe thead th {\n",
       "        text-align: right;\n",
       "    }\n",
       "</style>\n",
       "<table border=\"1\" class=\"dataframe\">\n",
       "  <thead>\n",
       "    <tr style=\"text-align: right;\">\n",
       "      <th></th>\n",
       "      <th>Order_ID</th>\n",
       "      <th>OrderDate</th>\n",
       "      <th>ShipDate</th>\n",
       "      <th>Ship_Mode</th>\n",
       "      <th>Customer_ID</th>\n",
       "      <th>Customer_Name</th>\n",
       "      <th>Segment</th>\n",
       "      <th>City</th>\n",
       "      <th>State</th>\n",
       "      <th>Postal_Code</th>\n",
       "      <th>...</th>\n",
       "      <th>Category</th>\n",
       "      <th>Sub_Category</th>\n",
       "      <th>Product_Name</th>\n",
       "      <th>Sales</th>\n",
       "      <th>Quantity</th>\n",
       "      <th>Discount</th>\n",
       "      <th>Profit</th>\n",
       "      <th>Order_Months</th>\n",
       "      <th>order_year</th>\n",
       "      <th>Profit/Loss</th>\n",
       "    </tr>\n",
       "  </thead>\n",
       "  <tbody>\n",
       "    <tr>\n",
       "      <th>0</th>\n",
       "      <td>CA-2014-115812</td>\n",
       "      <td>09-06-2014</td>\n",
       "      <td>14-06-2014</td>\n",
       "      <td>Standard Class</td>\n",
       "      <td>BH-11710</td>\n",
       "      <td>Brosina Hoffman</td>\n",
       "      <td>Consumer</td>\n",
       "      <td>Los Angeles</td>\n",
       "      <td>California</td>\n",
       "      <td>90032</td>\n",
       "      <td>...</td>\n",
       "      <td>Furniture</td>\n",
       "      <td>Furnishings</td>\n",
       "      <td>Eldon Expressions Wood and Plastic Desk Access...</td>\n",
       "      <td>48.86</td>\n",
       "      <td>7</td>\n",
       "      <td>0.0</td>\n",
       "      <td>14.1694</td>\n",
       "      <td>6</td>\n",
       "      <td>2014</td>\n",
       "      <td>Profit</td>\n",
       "    </tr>\n",
       "    <tr>\n",
       "      <th>1</th>\n",
       "      <td>CA-2014-115812</td>\n",
       "      <td>09-06-2014</td>\n",
       "      <td>14-06-2014</td>\n",
       "      <td>Standard Class</td>\n",
       "      <td>BH-11710</td>\n",
       "      <td>Brosina Hoffman</td>\n",
       "      <td>Consumer</td>\n",
       "      <td>Los Angeles</td>\n",
       "      <td>California</td>\n",
       "      <td>90032</td>\n",
       "      <td>...</td>\n",
       "      <td>Office Supplies</td>\n",
       "      <td>Art</td>\n",
       "      <td>Newell 322</td>\n",
       "      <td>7.28</td>\n",
       "      <td>4</td>\n",
       "      <td>0.0</td>\n",
       "      <td>1.9656</td>\n",
       "      <td>6</td>\n",
       "      <td>2014</td>\n",
       "      <td>Profit</td>\n",
       "    </tr>\n",
       "  </tbody>\n",
       "</table>\n",
       "<p>2 rows × 22 columns</p>\n",
       "</div>"
      ],
      "text/plain": [
       "         Order_ID   OrderDate    ShipDate       Ship_Mode Customer_ID  \\\n",
       "0  CA-2014-115812  09-06-2014  14-06-2014  Standard Class    BH-11710   \n",
       "1  CA-2014-115812  09-06-2014  14-06-2014  Standard Class    BH-11710   \n",
       "\n",
       "     Customer_Name   Segment         City       State  Postal_Code  ...  \\\n",
       "0  Brosina Hoffman  Consumer  Los Angeles  California        90032  ...   \n",
       "1  Brosina Hoffman  Consumer  Los Angeles  California        90032  ...   \n",
       "\n",
       "          Category Sub_Category  \\\n",
       "0        Furniture  Furnishings   \n",
       "1  Office Supplies          Art   \n",
       "\n",
       "                                        Product_Name  Sales Quantity  \\\n",
       "0  Eldon Expressions Wood and Plastic Desk Access...  48.86        7   \n",
       "1                                         Newell 322   7.28        4   \n",
       "\n",
       "   Discount   Profit  Order_Months  order_year  Profit/Loss  \n",
       "0       0.0  14.1694             6        2014       Profit  \n",
       "1       0.0   1.9656             6        2014       Profit  \n",
       "\n",
       "[2 rows x 22 columns]"
      ]
     },
     "execution_count": 92,
     "metadata": {},
     "output_type": "execute_result"
    }
   ],
   "source": [
    "query = \"\"\" select * from superstore1 limit 2 \"\"\"\n",
    "\n",
    "cursor.execute(query)\n",
    "data = cursor.fetchall()\n",
    "columns = [col[0] for col in cursor.description]\n",
    "df = pd.DataFrame(data, columns = columns)\n",
    "df"
   ]
  },
  {
   "cell_type": "code",
   "execution_count": 71,
   "id": "86fcee6e-2096-4b62-8966-5378d294de34",
   "metadata": {},
   "outputs": [],
   "source": [
    "# Top products by sales"
   ]
  },
  {
   "cell_type": "code",
   "execution_count": 132,
   "id": "f72d72c3-076c-4221-844c-ff80c6ec0b6d",
   "metadata": {},
   "outputs": [
    {
     "data": {
      "text/html": [
       "<div>\n",
       "<style scoped>\n",
       "    .dataframe tbody tr th:only-of-type {\n",
       "        vertical-align: middle;\n",
       "    }\n",
       "\n",
       "    .dataframe tbody tr th {\n",
       "        vertical-align: top;\n",
       "    }\n",
       "\n",
       "    .dataframe thead th {\n",
       "        text-align: right;\n",
       "    }\n",
       "</style>\n",
       "<table border=\"1\" class=\"dataframe\">\n",
       "  <thead>\n",
       "    <tr style=\"text-align: right;\">\n",
       "      <th></th>\n",
       "      <th>Product Name</th>\n",
       "      <th>Total Sales</th>\n",
       "    </tr>\n",
       "  </thead>\n",
       "  <tbody>\n",
       "    <tr>\n",
       "      <th>0</th>\n",
       "      <td>Canon imageCLASS 2200 Advanced Copier</td>\n",
       "      <td>61599.822266</td>\n",
       "    </tr>\n",
       "    <tr>\n",
       "      <th>1</th>\n",
       "      <td>Fellowes PB500 Electric Punch Plastic Comb Bin...</td>\n",
       "      <td>27453.384033</td>\n",
       "    </tr>\n",
       "    <tr>\n",
       "      <th>2</th>\n",
       "      <td>Cisco TelePresence System EX90 Videoconferenci...</td>\n",
       "      <td>22638.480469</td>\n",
       "    </tr>\n",
       "    <tr>\n",
       "      <th>3</th>\n",
       "      <td>HON 5400 Series Task Chairs for Big and Tall</td>\n",
       "      <td>21870.575500</td>\n",
       "    </tr>\n",
       "    <tr>\n",
       "      <th>4</th>\n",
       "      <td>GBC DocuBind TL300 Electric Binding System</td>\n",
       "      <td>19823.478516</td>\n",
       "    </tr>\n",
       "  </tbody>\n",
       "</table>\n",
       "</div>"
      ],
      "text/plain": [
       "                                        Product Name   Total Sales\n",
       "0              Canon imageCLASS 2200 Advanced Copier  61599.822266\n",
       "1  Fellowes PB500 Electric Punch Plastic Comb Bin...  27453.384033\n",
       "2  Cisco TelePresence System EX90 Videoconferenci...  22638.480469\n",
       "3       HON 5400 Series Task Chairs for Big and Tall  21870.575500\n",
       "4         GBC DocuBind TL300 Electric Binding System  19823.478516"
      ]
     },
     "execution_count": 132,
     "metadata": {},
     "output_type": "execute_result"
    }
   ],
   "source": [
    "query = \"\"\" select Product_Name, sum(Sales) as TotalSales from superstore1\n",
    "group by Product_Name \n",
    "order by TotalSales desc\n",
    "limit 5 \"\"\"\n",
    "cursor.execute(query)\n",
    "data = cursor.fetchall()\n",
    "columns = [col[0] for col in cursor.description]\n",
    "df = pd.DataFrame(data , columns = ['Product Name','Total Sales'])\n",
    "df"
   ]
  },
  {
   "cell_type": "code",
   "execution_count": 73,
   "id": "eb34786c-d768-4520-bf64-28a94ed330ab",
   "metadata": {},
   "outputs": [],
   "source": [
    "# Total profit by region"
   ]
  },
  {
   "cell_type": "code",
   "execution_count": 221,
   "id": "8fea6510-2916-4574-ae13-97118a3f88a1",
   "metadata": {},
   "outputs": [
    {
     "data": {
      "text/plain": [
       "[]"
      ]
     },
     "execution_count": 221,
     "metadata": {},
     "output_type": "execute_result"
    },
    {
     "data": {
      "image/png": "[encoded data removed]",
      "text/plain": [
       "<Figure size 400x200 with 1 Axes>"
      ]
     },
     "metadata": {},
     "output_type": "display_data"
    }
   ],
   "source": [
    "query = \"\"\"select Region, sum(Profit) as Total_Profit from superstore1 \n",
    "group by Region\n",
    "order by Total_Profit asc\"\"\"\n",
    "cursor.execute(query)\n",
    "data = cursor.fetchall()\n",
    "columns = [col[0] for col in cursor.description]\n",
    "df = pd.DataFrame(data, columns = columns)\n",
    "plt.figure(figsize = (4,2))\n",
    "ax = sns.barplot(x = df['Region'] , y = df['Total_Profit'] , data = df )\n",
    "ax.bar_label(ax.containers[0])\n",
    "plt.title('Total Profit by Region')\n",
    "plt.plot()\n"
   ]
  },
  {
   "cell_type": "code",
   "execution_count": 75,
   "id": "b9cbe246-7c31-48c0-a893-1cccde2126fe",
   "metadata": {},
   "outputs": [],
   "source": [
    "# Total profit by Category"
   ]
  },
  {
   "cell_type": "code",
   "execution_count": 178,
   "id": "5b81827f-7ce9-458b-8891-baccb7eee4cc",
   "metadata": {},
   "outputs": [
    {
     "name": "stdout",
     "output_type": "stream",
     "text": [
      "Total profit by Categories are: \n",
      "           Category   Total Profit\n",
      "0       Technology  145454.947453\n",
      "1  Office Supplies  122490.800647\n",
      "2        Furniture   18451.272711\n"
     ]
    }
   ],
   "source": [
    "query = \"\"\" select Category , sum(Profit) as Total_Profit from superstore1\n",
    "group by Category \n",
    "order by Total_Profit desc\"\"\"\n",
    "cursor.execute(query)\n",
    "data = cursor.fetchall()\n",
    "df = pd.DataFrame(data, columns = ['Category','Total Profit'])\n",
    "print('Total profit by Categories are: \\n' , df )"
   ]
  },
  {
   "cell_type": "code",
   "execution_count": null,
   "id": "f0c92a94-24c7-4175-a1d8-c90aeb513f0a",
   "metadata": {},
   "outputs": [],
   "source": [
    "# Total Sales by Category"
   ]
  },
  {
   "cell_type": "code",
   "execution_count": 179,
   "id": "d43cb72d-b9b8-429f-92cb-279db090f939",
   "metadata": {},
   "outputs": [
    {
     "data": {
      "text/html": [
       "<div>\n",
       "<style scoped>\n",
       "    .dataframe tbody tr th:only-of-type {\n",
       "        vertical-align: middle;\n",
       "    }\n",
       "\n",
       "    .dataframe tbody tr th {\n",
       "        vertical-align: top;\n",
       "    }\n",
       "\n",
       "    .dataframe thead th {\n",
       "        text-align: right;\n",
       "    }\n",
       "</style>\n",
       "<table border=\"1\" class=\"dataframe\">\n",
       "  <thead>\n",
       "    <tr style=\"text-align: right;\">\n",
       "      <th></th>\n",
       "      <th>Category</th>\n",
       "      <th>TotalSales</th>\n",
       "    </tr>\n",
       "  </thead>\n",
       "  <tbody>\n",
       "    <tr>\n",
       "      <th>0</th>\n",
       "      <td>Technology</td>\n",
       "      <td>836154.030862</td>\n",
       "    </tr>\n",
       "    <tr>\n",
       "      <th>1</th>\n",
       "      <td>Furniture</td>\n",
       "      <td>741999.793703</td>\n",
       "    </tr>\n",
       "    <tr>\n",
       "      <th>2</th>\n",
       "      <td>Office Supplies</td>\n",
       "      <td>719047.031284</td>\n",
       "    </tr>\n",
       "  </tbody>\n",
       "</table>\n",
       "</div>"
      ],
      "text/plain": [
       "          Category     TotalSales\n",
       "0       Technology  836154.030862\n",
       "1        Furniture  741999.793703\n",
       "2  Office Supplies  719047.031284"
      ]
     },
     "execution_count": 179,
     "metadata": {},
     "output_type": "execute_result"
    }
   ],
   "source": [
    "query = \"\"\" Select Category, sum(Sales) as TotalSales from superstore1\n",
    "group by Category \n",
    "order by TotalSales desc\n",
    "\"\"\"\n",
    "cursor.execute(query)\n",
    "data = cursor.fetchall()\n",
    "columns = [col[0] for col in cursor.description]\n",
    "df = pd.DataFrame(data, columns = columns)\n",
    "df"
   ]
  },
  {
   "cell_type": "code",
   "execution_count": 77,
   "id": "f561f210-9fba-4c36-8a38-825627d645b8",
   "metadata": {},
   "outputs": [],
   "source": [
    "# 📊 Total Sales by region"
   ]
  },
  {
   "cell_type": "code",
   "execution_count": 183,
   "id": "a55455a2-aad7-4466-8cfc-e915faa6b896",
   "metadata": {},
   "outputs": [
    {
     "data": {
      "text/plain": [
       "[]"
      ]
     },
     "execution_count": 183,
     "metadata": {},
     "output_type": "execute_result"
    },
    {
     "data": {
      "image/png": "[encoded data removed]",
      "text/plain": [
       "<Figure size 300x300 with 1 Axes>"
      ]
     },
     "metadata": {},
     "output_type": "display_data"
    }
   ],
   "source": [
    "query = \"\"\" select Region, sum(Sales) as Total_Sales from superstore1\n",
    "group by Region\n",
    "order by Total_Sales\"\"\"\n",
    "cursor.execute(query)\n",
    "data = cursor.fetchall()\n",
    "df = pd.DataFrame(data, columns = ['Region','Total Sales'])\n",
    "plt.figure(figsize = (3,3))\n",
    "ax = sns.barplot(x= df['Region'], y = df['Total Sales'],data = df)\n",
    "plt.title('Total Sales by Region')\n",
    "ax.bar_label(ax.containers[0])\n",
    "plt.plot()"
   ]
  },
  {
   "cell_type": "code",
   "execution_count": null,
   "id": "68ec17e1-324c-4e57-927b-15002d90321e",
   "metadata": {},
   "outputs": [],
   "source": [
    "# Orders Count by Customer"
   ]
  },
  {
   "cell_type": "code",
   "execution_count": 186,
   "id": "ff7618c9-e8af-4dc7-b25e-099284bffce1",
   "metadata": {},
   "outputs": [
    {
     "data": {
      "text/html": [
       "<div>\n",
       "<style scoped>\n",
       "    .dataframe tbody tr th:only-of-type {\n",
       "        vertical-align: middle;\n",
       "    }\n",
       "\n",
       "    .dataframe tbody tr th {\n",
       "        vertical-align: top;\n",
       "    }\n",
       "\n",
       "    .dataframe thead th {\n",
       "        text-align: right;\n",
       "    }\n",
       "</style>\n",
       "<table border=\"1\" class=\"dataframe\">\n",
       "  <thead>\n",
       "    <tr style=\"text-align: right;\">\n",
       "      <th></th>\n",
       "      <th>Customer_Name</th>\n",
       "      <th>Total_Orders</th>\n",
       "    </tr>\n",
       "  </thead>\n",
       "  <tbody>\n",
       "    <tr>\n",
       "      <th>0</th>\n",
       "      <td>William Brown</td>\n",
       "      <td>37</td>\n",
       "    </tr>\n",
       "    <tr>\n",
       "      <th>1</th>\n",
       "      <td>Paul Prost</td>\n",
       "      <td>34</td>\n",
       "    </tr>\n",
       "    <tr>\n",
       "      <th>2</th>\n",
       "      <td>John Lee</td>\n",
       "      <td>34</td>\n",
       "    </tr>\n",
       "    <tr>\n",
       "      <th>3</th>\n",
       "      <td>Matt Abelman</td>\n",
       "      <td>34</td>\n",
       "    </tr>\n",
       "    <tr>\n",
       "      <th>4</th>\n",
       "      <td>Jonathan Doherty</td>\n",
       "      <td>32</td>\n",
       "    </tr>\n",
       "  </tbody>\n",
       "</table>\n",
       "</div>"
      ],
      "text/plain": [
       "      Customer_Name  Total_Orders\n",
       "0     William Brown            37\n",
       "1        Paul Prost            34\n",
       "2          John Lee            34\n",
       "3      Matt Abelman            34\n",
       "4  Jonathan Doherty            32"
      ]
     },
     "execution_count": 186,
     "metadata": {},
     "output_type": "execute_result"
    }
   ],
   "source": [
    "query = \"\"\" select Customer_Name, count(*) Total_Orders from superstore1 \n",
    "group by Customer_Name \n",
    "order by Total_Orders desc\n",
    "limit 5\"\"\"\n",
    "cursor.execute(query)\n",
    "data = cursor.fetchall()\n",
    "columns = [col[0] for col in cursor.description]\n",
    "df = pd.DataFrame(data, columns = columns)\n",
    "df"
   ]
  },
  {
   "cell_type": "code",
   "execution_count": 187,
   "id": "bc3d1f0a-76f8-47d7-8433-1ca687497325",
   "metadata": {},
   "outputs": [],
   "source": [
    "# Monthly Sales trends"
   ]
  },
  {
   "cell_type": "code",
   "execution_count": 188,
   "id": "5b883e48-1d72-40af-a830-50e445d89874",
   "metadata": {},
   "outputs": [
    {
     "data": {
      "text/plain": [
       "[(None, 2297200.8558493257)]"
      ]
     },
     "execution_count": 188,
     "metadata": {},
     "output_type": "execute_result"
    }
   ],
   "source": [
    "query = \"\"\" SELECT DATE_FORMAT(`OrderDate`, '%Y-%m') AS Order_Month, SUM(Sales) AS Total_Sales\n",
    "FROM superstore1\n",
    "GROUP BY Order_Month\n",
    "ORDER BY Order_Month;\n",
    "\"\"\"\n",
    "cursor.execute(query)\n",
    "data = cursor.fetchall()\n",
    "data"
   ]
  },
  {
   "cell_type": "code",
   "execution_count": 24,
   "id": "83a7afc9-4aee-40f0-8467-99bf332c158b",
   "metadata": {},
   "outputs": [],
   "source": [
    "# Most profitable customer"
   ]
  },
  {
   "cell_type": "code",
   "execution_count": null,
   "id": "67fcc81a-d0b9-4eda-b37b-fd4d92c519a9",
   "metadata": {},
   "outputs": [],
   "source": [
    "query = \"\"\"  \"\"\"\n",
    "cursor.execute(query)\n",
    "data = cursor.fetchall()\n",
    "data"
   ]
  },
  {
   "cell_type": "code",
   "execution_count": 189,
   "id": "c8d19142-e77a-4159-ac66-3fca120d5a3d",
   "metadata": {},
   "outputs": [],
   "source": [
    "# Top 5 States by Profit"
   ]
  },
  {
   "cell_type": "code",
   "execution_count": 190,
   "id": "16eac685-8405-4dd3-bbd2-e4936a149a62",
   "metadata": {},
   "outputs": [
    {
     "data": {
      "text/html": [
       "<div>\n",
       "<style scoped>\n",
       "    .dataframe tbody tr th:only-of-type {\n",
       "        vertical-align: middle;\n",
       "    }\n",
       "\n",
       "    .dataframe tbody tr th {\n",
       "        vertical-align: top;\n",
       "    }\n",
       "\n",
       "    .dataframe thead th {\n",
       "        text-align: right;\n",
       "    }\n",
       "</style>\n",
       "<table border=\"1\" class=\"dataframe\">\n",
       "  <thead>\n",
       "    <tr style=\"text-align: right;\">\n",
       "      <th></th>\n",
       "      <th>State</th>\n",
       "      <th>Total_Profit</th>\n",
       "    </tr>\n",
       "  </thead>\n",
       "  <tbody>\n",
       "    <tr>\n",
       "      <th>0</th>\n",
       "      <td>Michigan</td>\n",
       "      <td>24463.187780</td>\n",
       "    </tr>\n",
       "    <tr>\n",
       "      <th>1</th>\n",
       "      <td>Virginia</td>\n",
       "      <td>18597.950311</td>\n",
       "    </tr>\n",
       "    <tr>\n",
       "      <th>2</th>\n",
       "      <td>Indiana</td>\n",
       "      <td>18382.935908</td>\n",
       "    </tr>\n",
       "    <tr>\n",
       "      <th>3</th>\n",
       "      <td>Georgia</td>\n",
       "      <td>16250.043296</td>\n",
       "    </tr>\n",
       "    <tr>\n",
       "      <th>4</th>\n",
       "      <td>Kentucky</td>\n",
       "      <td>11199.696645</td>\n",
       "    </tr>\n",
       "  </tbody>\n",
       "</table>\n",
       "</div>"
      ],
      "text/plain": [
       "      State  Total_Profit\n",
       "0  Michigan  24463.187780\n",
       "1  Virginia  18597.950311\n",
       "2   Indiana  18382.935908\n",
       "3   Georgia  16250.043296\n",
       "4  Kentucky  11199.696645"
      ]
     },
     "execution_count": 190,
     "metadata": {},
     "output_type": "execute_result"
    }
   ],
   "source": [
    "query = \"\"\" select State , sum(Profit) as Total_Profit from superstore1\n",
    "group by State\n",
    "order by Total_Profit desc \n",
    "limit 3,5\"\"\"\n",
    "cursor.execute(query)\n",
    "data = cursor.fetchall()\n",
    "columns = [col[0] for col in cursor.description]\n",
    "df = pd.DataFrame(data, columns = columns)\n",
    "df"
   ]
  },
  {
   "cell_type": "code",
   "execution_count": 191,
   "id": "c0fc97c1-62e5-4da5-b180-cafe481da720",
   "metadata": {},
   "outputs": [],
   "source": [
    "# Products with Negative Profit"
   ]
  },
  {
   "cell_type": "code",
   "execution_count": 192,
   "id": "b016ee17-182f-490b-9dc6-ea0fe1a3fce1",
   "metadata": {},
   "outputs": [
    {
     "data": {
      "text/html": [
       "<div>\n",
       "<style scoped>\n",
       "    .dataframe tbody tr th:only-of-type {\n",
       "        vertical-align: middle;\n",
       "    }\n",
       "\n",
       "    .dataframe tbody tr th {\n",
       "        vertical-align: top;\n",
       "    }\n",
       "\n",
       "    .dataframe thead th {\n",
       "        text-align: right;\n",
       "    }\n",
       "</style>\n",
       "<table border=\"1\" class=\"dataframe\">\n",
       "  <thead>\n",
       "    <tr style=\"text-align: right;\">\n",
       "      <th></th>\n",
       "      <th>Product_Name</th>\n",
       "      <th>Total_Profit</th>\n",
       "    </tr>\n",
       "  </thead>\n",
       "  <tbody>\n",
       "    <tr>\n",
       "      <th>0</th>\n",
       "      <td>Cubify CubeX 3D Printer Double Head Print</td>\n",
       "      <td>-8879.970428</td>\n",
       "    </tr>\n",
       "    <tr>\n",
       "      <th>1</th>\n",
       "      <td>Lexmark MX611dhe Monochrome Laser Printer</td>\n",
       "      <td>-4589.972961</td>\n",
       "    </tr>\n",
       "    <tr>\n",
       "      <th>2</th>\n",
       "      <td>Cubify CubeX 3D Printer Triple Head Print</td>\n",
       "      <td>-3839.990479</td>\n",
       "    </tr>\n",
       "    <tr>\n",
       "      <th>3</th>\n",
       "      <td>Chromcraft Bull-Nose Wood Oval Conference Tabl...</td>\n",
       "      <td>-2876.115608</td>\n",
       "    </tr>\n",
       "    <tr>\n",
       "      <th>4</th>\n",
       "      <td>Bush Advantage Collection Racetrack Conference...</td>\n",
       "      <td>-1934.397583</td>\n",
       "    </tr>\n",
       "  </tbody>\n",
       "</table>\n",
       "</div>"
      ],
      "text/plain": [
       "                                        Product_Name  Total_Profit\n",
       "0          Cubify CubeX 3D Printer Double Head Print  -8879.970428\n",
       "1          Lexmark MX611dhe Monochrome Laser Printer  -4589.972961\n",
       "2          Cubify CubeX 3D Printer Triple Head Print  -3839.990479\n",
       "3  Chromcraft Bull-Nose Wood Oval Conference Tabl...  -2876.115608\n",
       "4  Bush Advantage Collection Racetrack Conference...  -1934.397583"
      ]
     },
     "execution_count": 192,
     "metadata": {},
     "output_type": "execute_result"
    }
   ],
   "source": [
    "query = \"\"\" select Product_Name , sum(Profit) as Total_Profit\n",
    "from superstore1\n",
    "group by Product_Name\n",
    "having Total_Profit < 0\n",
    "order by Total_Profit asc\n",
    "limit 5\"\"\"\n",
    "cursor.execute(query)\n",
    "data = cursor.fetchall()\n",
    "columns = [col[0] for col in cursor.description]\n",
    "df = pd.DataFrame(data, columns = columns)\n",
    "df"
   ]
  },
  {
   "cell_type": "code",
   "execution_count": 193,
   "id": "fa2a0b5c-ab3d-4fe5-a47f-5dcdafe28731",
   "metadata": {},
   "outputs": [],
   "source": [
    "# Sales by Ship Mode"
   ]
  },
  {
   "cell_type": "code",
   "execution_count": 201,
   "id": "f44296f4-a8c4-4c43-af0e-fc03bc27215f",
   "metadata": {},
   "outputs": [
    {
     "data": {
      "text/html": [
       "<div>\n",
       "<style scoped>\n",
       "    .dataframe tbody tr th:only-of-type {\n",
       "        vertical-align: middle;\n",
       "    }\n",
       "\n",
       "    .dataframe tbody tr th {\n",
       "        vertical-align: top;\n",
       "    }\n",
       "\n",
       "    .dataframe thead th {\n",
       "        text-align: right;\n",
       "    }\n",
       "</style>\n",
       "<table border=\"1\" class=\"dataframe\">\n",
       "  <thead>\n",
       "    <tr style=\"text-align: right;\">\n",
       "      <th></th>\n",
       "      <th>Ship_Mode</th>\n",
       "      <th>Total_Sales</th>\n",
       "    </tr>\n",
       "  </thead>\n",
       "  <tbody>\n",
       "    <tr>\n",
       "      <th>0</th>\n",
       "      <td>Standard Class</td>\n",
       "      <td>1358215.74</td>\n",
       "    </tr>\n",
       "    <tr>\n",
       "      <th>1</th>\n",
       "      <td>Second Class</td>\n",
       "      <td>459193.57</td>\n",
       "    </tr>\n",
       "    <tr>\n",
       "      <th>2</th>\n",
       "      <td>First Class</td>\n",
       "      <td>351428.42</td>\n",
       "    </tr>\n",
       "    <tr>\n",
       "      <th>3</th>\n",
       "      <td>Same Day</td>\n",
       "      <td>128363.12</td>\n",
       "    </tr>\n",
       "  </tbody>\n",
       "</table>\n",
       "</div>"
      ],
      "text/plain": [
       "        Ship_Mode  Total_Sales\n",
       "0  Standard Class   1358215.74\n",
       "1    Second Class    459193.57\n",
       "2     First Class    351428.42\n",
       "3        Same Day    128363.12"
      ]
     },
     "execution_count": 201,
     "metadata": {},
     "output_type": "execute_result"
    }
   ],
   "source": [
    "query = \"\"\" select Ship_Mode, round(sum(sales),2) as Total_Sales from superstore1\n",
    "group by Ship_Mode\n",
    "order by Total_Sales desc\"\"\"\n",
    "cursor.execute(query)\n",
    "data = cursor.fetchall()\n",
    "# data\n",
    "columns = [col[0] for col in cursor.description]\n",
    "df = pd.DataFrame(data, columns = columns)\n",
    "df"
   ]
  },
  {
   "cell_type": "code",
   "execution_count": null,
   "id": "2be27bd7-b58d-4409-9adc-db02fc59bd08",
   "metadata": {},
   "outputs": [],
   "source": [
    "# Most Selling Sub-Categories by Region"
   ]
  },
  {
   "cell_type": "code",
   "execution_count": 245,
   "id": "f4ebd1cc-3ac4-4ef5-b3ff-6ed5bd58a96b",
   "metadata": {},
   "outputs": [
    {
     "data": {
      "text/html": [
       "<div>\n",
       "<style scoped>\n",
       "    .dataframe tbody tr th:only-of-type {\n",
       "        vertical-align: middle;\n",
       "    }\n",
       "\n",
       "    .dataframe tbody tr th {\n",
       "        vertical-align: top;\n",
       "    }\n",
       "\n",
       "    .dataframe thead th {\n",
       "        text-align: right;\n",
       "    }\n",
       "</style>\n",
       "<table border=\"1\" class=\"dataframe\">\n",
       "  <thead>\n",
       "    <tr style=\"text-align: right;\">\n",
       "      <th></th>\n",
       "      <th>Region</th>\n",
       "      <th>Sub_Category</th>\n",
       "      <th>TotalQty</th>\n",
       "    </tr>\n",
       "  </thead>\n",
       "  <tbody>\n",
       "    <tr>\n",
       "      <th>0</th>\n",
       "      <td>Central</td>\n",
       "      <td>Binders</td>\n",
       "      <td>1473</td>\n",
       "    </tr>\n",
       "    <tr>\n",
       "      <th>1</th>\n",
       "      <td>East</td>\n",
       "      <td>Binders</td>\n",
       "      <td>1652</td>\n",
       "    </tr>\n",
       "    <tr>\n",
       "      <th>2</th>\n",
       "      <td>South</td>\n",
       "      <td>Binders</td>\n",
       "      <td>981</td>\n",
       "    </tr>\n",
       "    <tr>\n",
       "      <th>3</th>\n",
       "      <td>West</td>\n",
       "      <td>Binders</td>\n",
       "      <td>1868</td>\n",
       "    </tr>\n",
       "  </tbody>\n",
       "</table>\n",
       "</div>"
      ],
      "text/plain": [
       "    Region Sub_Category TotalQty\n",
       "0  Central      Binders     1473\n",
       "1     East      Binders     1652\n",
       "2    South      Binders      981\n",
       "3     West      Binders     1868"
      ]
     },
     "execution_count": 245,
     "metadata": {},
     "output_type": "execute_result"
    }
   ],
   "source": [
    "query = \"\"\" WITH RegionSubCat AS (\n",
    "    SELECT Region, Sub_Category, SUM(Quantity) AS TotalQty\n",
    "    FROM superstore\n",
    "    GROUP BY Region, Sub_Category\n",
    "),\n",
    "RankedSubCat AS (\n",
    "    SELECT *,\n",
    "           RANK() OVER (PARTITION BY Region ORDER BY TotalQty DESC) AS rnk\n",
    "    FROM RegionSubCat\n",
    ")\n",
    "SELECT Region, Sub_Category, TotalQty\n",
    "FROM RankedSubCat\n",
    "WHERE rnk = 1;\n",
    "\n",
    "\n",
    "\"\"\"\n",
    "cursor.execute(query)\n",
    "data = cursor.fetchall()\n",
    "columns = [col[0] for col in cursor.description]\n",
    "df = pd.DataFrame(data, columns = columns)\n",
    "df"
   ]
  },
  {
   "cell_type": "code",
   "execution_count": 240,
   "id": "007f27ec-a95d-405a-8e7c-703adff0a191",
   "metadata": {},
   "outputs": [],
   "source": [
    "# Discount Impact Analysis"
   ]
  },
  {
   "cell_type": "code",
   "execution_count": 246,
   "id": "c6298908-1cc0-45d9-93d7-dc0c667c73d8",
   "metadata": {},
   "outputs": [
    {
     "data": {
      "text/plain": [
       "<function matplotlib.pyplot.plot(*args: 'float | ArrayLike | str', scalex: 'bool' = True, scaley: 'bool' = True, data=None, **kwargs) -> 'list[Line2D]'>"
      ]
     },
     "execution_count": 246,
     "metadata": {},
     "output_type": "execute_result"
    },
    {
     "data": {
      "text/plain": [
       "<Figure size 400x400 with 0 Axes>"
      ]
     },
     "metadata": {},
     "output_type": "display_data"
    },
    {
     "data": {
      "image/png": "[encoded data removed]",
      "text/plain": [
       "<Figure size 640x480 with 1 Axes>"
      ]
     },
     "metadata": {},
     "output_type": "display_data"
    }
   ],
   "source": [
    "query = \"\"\" select Discount, round(avg(Profit),2) as Avg_Profit \n",
    "from superstore1\n",
    "group by Discount\n",
    "order by Discount\"\"\"\n",
    "cursor.execute(query)\n",
    "data = cursor.fetchall()\n",
    "columns = [col[0] for col in cursor.description]\n",
    "df = pd.DataFrame(data, columns = columns)\n",
    "plt.figure(figsize = (4,4))\n",
    "ax = df.plot(x = 'Discount', y = 'Avg_Profit', kind = 'bar')\n",
    "ax.bar_label(ax.containers[0])\n",
    "plt.title('Discount vs Average Profit')\n",
    "plt.ylabel('Profit')\n",
    "plt.plot"
   ]
  },
  {
   "cell_type": "code",
   "execution_count": 26,
   "id": "9ae62570-4f8f-46b1-b176-57472c1191b8",
   "metadata": {},
   "outputs": [],
   "source": []
  },
  {
   "cell_type": "code",
   "execution_count": null,
   "id": "8dafac84-8b1c-4dd6-adc7-00563c45da31",
   "metadata": {},
   "outputs": [],
   "source": []
  },
  {
   "cell_type": "code",
   "execution_count": null,
   "id": "b882041b-ca28-47f8-88fd-123769dab83b",
   "metadata": {},
   "outputs": [],
   "source": []
  }
 ],
 "metadata": {
  "kernelspec": {
   "display_name": "Python 3 (ipykernel)",
   "language": "python",
   "name": "python3"
  },
  "language_info": {
   "codemirror_mode": {
    "name": "ipython",
    "version": 3
   },
   "file_extension": ".py",
   "mimetype": "text/x-python",
   "name": "python",
   "nbconvert_exporter": "python",
   "pygments_lexer": "ipython3",
   "version": "3.13.1"
  }
 },
 "nbformat": 4,
 "nbformat_minor": 5
}
